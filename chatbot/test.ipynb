{
 "cells": [
  {
   "cell_type": "code",
   "execution_count": 2,
   "id": "15e92cd1",
   "metadata": {},
   "outputs": [
    {
     "name": "stdout",
     "output_type": "stream",
     "text": [
      "mysql\n",
      "['account', 'carts', 'carts_details', 'category', 'category_promotions', 'food_items', 'food_promotions', 'migrations', 'orders', 'orders_details', 'personal_access_tokens', 'promotions', 'restaurant_info']\n"
     ]
    },
    {
     "data": {
      "text/plain": [
       "\"[('Chả hoàng kim', 100000, 10), ('Chạo tôm', 120000, 7), ('Gà bó xôi 2 màu ôm trứng hạt sen', 450000, 5), ('Gà bó xôi 3 màu ôm trứng hạt sen', 480000, 6), ('Gà hấp nước mắm', 350000, 3), ('Gà ta hấp cách thủy', 370000, 4), ('Bò nấu đậu', 250000, 12), ('Bò nấu tiêu xanh', 270000, 9), ('Heo quay', 320000, 8), ('Giò heo chiên giòn', 350000, 4), ('Cá lóc quay me', 280000, 2), ('Cá tai tượng chiên xù', 320000, 3), ('Tôm sú rang trứng muối', 350000, 15), ('Tôm sú rang muối Hongkong', 360000, 20), ('Cơm chiên hải sản', 150000, 25), ('Cơm gà lá sen', 180000, 14), ('Súp hải sản', 130000, 50), ('Súp cua hạt sen', 140000, 35), ('Lẩu cá bớp măng chua', 350000, 7), ('Lẩu sườn bê nấu rượu hoa tiêu', 450000, 4), ('Lẩu nấm hải sản truyền thống', 400000, 8), ('Lẩu gà tiềm ớt hiểm', 380000, 3)]\""
      ]
     },
     "execution_count": 2,
     "metadata": {},
     "output_type": "execute_result"
    }
   ],
   "source": [
    "from langchain_community.utilities import SQLDatabase\n",
    "\n",
    "db = SQLDatabase.from_uri(\n",
    "    \"mysql+mysqlconnector://root:@localhost/foodordering\"\n",
    ")\n",
    "print(db.dialect)\n",
    "print(db.get_usable_table_names())\n",
    "db.run(\"SELECT name, price, quantity FROM food_items;\")"
   ]
  },
  {
   "cell_type": "code",
   "execution_count": null,
   "id": "fcefb3e2",
   "metadata": {},
   "outputs": [],
   "source": [
    "def get_chatbot_response(client, model_name, messages, temperature=0):\n",
    "    input_messages = []\n",
    "    for message in messages:\n",
    "        input_messages.append({\"role\": message[\"role\"], \"content\": message[\"content\"]})\n",
    "\n",
    "    response = (\n",
    "        client.chat.completions.create(\n",
    "            model=model_name,\n",
    "            messages=input_messages,\n",
    "            temperature=temperature,\n",
    "            top_p=0.8,\n",
    "            max_tokens=2000,\n",
    "        )\n",
    "        .choices[0]\n",
    "        .message.content\n",
    "    )\n",
    "    return response"
   ]
  },
  {
   "cell_type": "code",
   "execution_count": null,
   "id": "8a1798f1",
   "metadata": {},
   "outputs": [],
   "source": [
    "from dotenv import load_dotenv\n",
    "import os\n",
    "import json\n",
    "from copy import deepcopy\n",
    "from langchain_openai import OpenAI\n",
    "\n",
    "load_dotenv()"
   ]
  }
 ],
 "metadata": {
  "kernelspec": {
   "display_name": "websitebot",
   "language": "python",
   "name": "python3"
  },
  "language_info": {
   "codemirror_mode": {
    "name": "ipython",
    "version": 3
   },
   "file_extension": ".py",
   "mimetype": "text/x-python",
   "name": "python",
   "nbconvert_exporter": "python",
   "pygments_lexer": "ipython3",
   "version": "3.10.16"
  }
 },
 "nbformat": 4,
 "nbformat_minor": 5
}
